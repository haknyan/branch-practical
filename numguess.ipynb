{
 "cells": [
  {
   "cell_type": "code",
   "execution_count": 16,
   "id": "9ba4ac86",
   "metadata": {},
   "outputs": [
    {
     "name": "stdout",
     "output_type": "stream",
     "text": [
      "guess the number dummy is 1 to 100: 50\n",
      "wrong\n",
      "answer is 14\n"
     ]
    }
   ],
   "source": [
    "from random import randint\n",
    "\n",
    "answer = randint(1, 100)\n",
    "\n",
    "\n",
    "guess = int(input('guess the number dummy is 1 to 100: '))\n",
    "\n",
    "if answer == guess:\n",
    "    print('correct')\n",
    "else:\n",
    "    print('wrong')\n",
    "    print('answer is', answer)\n"
   ]
  }
 ],
 "metadata": {
  "kernelspec": {
   "display_name": "Python 3 (ipykernel)",
   "language": "python",
   "name": "python3"
  },
  "language_info": {
   "codemirror_mode": {
    "name": "ipython",
    "version": 3
   },
   "file_extension": ".py",
   "mimetype": "text/x-python",
   "name": "python",
   "nbconvert_exporter": "python",
   "pygments_lexer": "ipython3",
   "version": "3.10.4"
  }
 },
 "nbformat": 4,
 "nbformat_minor": 5
}
