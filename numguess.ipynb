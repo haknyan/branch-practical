{
 "cells": [
  {
   "cell_type": "code",
   "execution_count": 18,
   "id": "b591ecdf",
   "metadata": {},
   "outputs": [
    {
     "name": "stdout",
     "output_type": "stream",
     "text": [
      "answer is 4\n",
      "guess the number dummy is 1 to 100: 80\n",
      "DOWN\n",
      "guess the number dummy is 1 to 100: 70\n",
      "DOWN\n",
      "guess the number dummy is 1 to 100: 4\n",
      "correct\n"
     ]
    }
   ],
   "source": [
    "from random import randint\n",
    "\n",
    "answer = randint(1, 100)\n",
    "print('answer is', answer)\n",
    "\n",
    "guess = int(input('guess the number dummy is 1 to 100: '))\n",
    "\n",
    "while True:\n",
    "    if answer == guess:\n",
    "        print('correct')\n",
    "        break\n",
    "    elif answer > guess:\n",
    "        print('UP')\n",
    "        guess = int(input('guess the number dummy is 1 to 100: '))\n",
    "    elif answer < guess:\n",
    "        print('DOWN')\n",
    "        guess = int(input('guess the number dummy is 1 to 100: '))"
   ]
  }
 ],
 "metadata": {
  "kernelspec": {
   "display_name": "Python 3 (ipykernel)",
   "language": "python",
   "name": "python3"
  },
  "language_info": {
   "codemirror_mode": {
    "name": "ipython",
    "version": 3
   },
   "file_extension": ".py",
   "mimetype": "text/x-python",
   "name": "python",
   "nbconvert_exporter": "python",
   "pygments_lexer": "ipython3",
   "version": "3.10.4"
  }
 },
 "nbformat": 4,
 "nbformat_minor": 5
}
